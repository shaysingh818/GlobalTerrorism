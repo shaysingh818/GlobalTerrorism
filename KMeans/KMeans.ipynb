{
 "cells": [
  {
   "cell_type": "markdown",
   "metadata": {},
   "source": [
    "# K Means Clustering\n",
    "For this notebook, we'll use K Means clustering to categorize terrorist groups on how dangerous they are. We'll categorize by three different clusters, High, Medium and Low. We determine the danger levels by measuring property value damage and the total victims harmed and wounded. "
   ]
  },
  {
   "cell_type": "code",
   "execution_count": 10,
   "metadata": {},
   "outputs": [],
   "source": [
    "import numpy as np\n",
    "from sklearn.cluster import KMeans\n",
    "import pandas as pd\n",
    "from pprint import pprint\n",
    "import matplotlib.pyplot as plt\n",
    "import warnings\n",
    "warnings.filterwarnings('ignore')"
   ]
  },
  {
   "cell_type": "code",
   "execution_count": 11,
   "metadata": {},
   "outputs": [],
   "source": [
    "# Our data\n",
    "df = pd.read_csv('../data/data.csv', encoding=\"latin-1\")"
   ]
  },
  {
   "cell_type": "markdown",
   "metadata": {},
   "source": [
    "### Victims Harmed\n",
    "An important data point for understanding the lethality of a terrorist group, is understanding how many victims are harmed and wounded as a result of the attack. \n",
    "To get these values, we'll take the number of victims killed and wounded on a monthly basis. A yearly basis leads to less X values which we lead to less data points for clustering. "
   ]
  },
  {
   "cell_type": "code",
   "execution_count": 12,
   "metadata": {},
   "outputs": [],
   "source": [
    "def harmed_monthly(year, month):\n",
    "    yearly = df[df['iyear'] == year]\n",
    "    monthly = yearly[yearly['imonth'] == month]\n",
    "    killed = monthly [\"nkill\"].sum()\n",
    "    wounded = monthly[\"nwound\"].sum()\n",
    "    return killed + wounded"
   ]
  },
  {
   "cell_type": "markdown",
   "metadata": {},
   "source": [
    "### Property value damage\n",
    "Another data point for understanding lethality, is how much property was damaged as a result of the attack. Values are also being retrieved on a monthly basis to avoid lack of data points."
   ]
  },
  {
   "cell_type": "code",
   "execution_count": 13,
   "metadata": {},
   "outputs": [],
   "source": [
    "def prop_value_monthly(year, month):\n",
    "    yearly = df[df['iyear'] == year]\n",
    "    monthly = yearly[yearly['imonth'] == month]\n",
    "    prop_value = monthly['propvalue'].sum()\n",
    "    #print(\"Property Damage {} : {} : {} \".format(year, month, prop_value))\n",
    "    return prop_value"
   ]
  },
  {
   "cell_type": "markdown",
   "metadata": {},
   "source": [
    "### Inputting our data"
   ]
  },
  {
   "cell_type": "code",
   "execution_count": 14,
   "metadata": {},
   "outputs": [],
   "source": [
    "X = []  \n",
    "y = []\n",
    "\n",
    "for i in range(1970, 2017):\n",
    "    for j in range(1, 13):\n",
    "        results = prop_value_monthly(i, j)\n",
    "        harmed = harmed_monthly(i, j)\n",
    "        # filtered out negative values (Don't know why that happened)\n",
    "        if results > 0:\n",
    "            y.append(results)\n",
    "\n",
    "        if harmed > 0:\n",
    "            X.append(harmed)"
   ]
  },
  {
   "cell_type": "code",
   "execution_count": 15,
   "metadata": {},
   "outputs": [],
   "source": [
    "X = X[1:450] # Take a sample of 300 (Max is 465)\n",
    "y = y[1:450]"
   ]
  },
  {
   "cell_type": "code",
   "execution_count": 16,
   "metadata": {},
   "outputs": [
    {
     "name": "stdout",
     "output_type": "stream",
     "text": [
      "[[9.98934831e+02 6.53368104e+06]\n",
      " [2.79500000e+03 2.70366192e+09]\n",
      " [1.40900000e+03 7.67968468e+08]]\n"
     ]
    }
   ],
   "source": [
    "data = {}\n",
    "data['harmed'] = X\n",
    "data['property_value'] = y\n",
    "\n",
    "my_data = pd.DataFrame(data, columns=['harmed', 'property_value'])\n",
    "kmeans = KMeans(n_clusters=3).fit(my_data)\n",
    "centroids = kmeans.cluster_centers_\n",
    "print(centroids)"
   ]
  },
  {
   "cell_type": "markdown",
   "metadata": {},
   "source": [
    "# Final result\n",
    "Clusters represent severity level of terrorist groups. Sorted into clusters by low, medium and high severity. "
   ]
  },
  {
   "cell_type": "code",
   "execution_count": 17,
   "metadata": {},
   "outputs": [
    {
     "data": {
      "image/png": "[encoded data removed]",
      "text/plain": [
       "<Figure size 432x288 with 1 Axes>"
      ]
     },
     "metadata": {
      "needs_background": "light"
     },
     "output_type": "display_data"
    }
   ],
   "source": [
    "plt.title('Terrorist Group Lethality Clusters', fontsize=16)\n",
    "plt.xlabel('Wounded/Killed', fontsize=12)\n",
    "plt.ylabel('Property Value', fontsize=12)\n",
    "plt.scatter(my_data['harmed'], my_data['property_value'], c=kmeans.labels_.astype(float), s=50, alpha=0.5)\n",
    "plt.show()"
   ]
  },
  {
   "cell_type": "code",
   "execution_count": null,
   "metadata": {},
   "outputs": [],
   "source": [
    "# ROC Curve Optimal threshold"
   ]
  }
 ],
 "metadata": {
  "kernelspec": {
   "display_name": "Python 3",
   "language": "python",
   "name": "python3"
  },
  "language_info": {
   "codemirror_mode": {
    "name": "ipython",
    "version": 3
   },
   "file_extension": ".py",
   "mimetype": "text/x-python",
   "name": "python",
   "nbconvert_exporter": "python",
   "pygments_lexer": "ipython3",
   "version": "3.8.10"
  }
 },
 "nbformat": 4,
 "nbformat_minor": 5
}
