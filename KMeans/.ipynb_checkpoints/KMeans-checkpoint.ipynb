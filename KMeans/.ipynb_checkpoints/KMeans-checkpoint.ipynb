{
 "cells": [
  {
   "cell_type": "markdown",
   "id": "45233707",
   "metadata": {},
   "source": [
    "# K Means Clustering\n",
    "For this notebook, we'll use K Means clustering to categorize terrorist groups on how dangerous they are. We'll categorize by three different clusters, High, Medium and Low. We determine the danger levels by measuring property value damage and the total victims harmed and wounded. "
   ]
  },
  {
   "cell_type": "code",
   "execution_count": 8,
   "id": "ad528961",
   "metadata": {},
   "outputs": [],
   "source": [
    "import numpy as np\n",
    "from sklearn.cluster import KMeans\n",
    "import pandas as pd\n",
    "from pprint import pprint\n",
    "import matplotlib.pyplot as plt\n",
    "import warnings\n",
    "warnings.filterwarnings('ignore')"
   ]
  },
  {
   "cell_type": "code",
   "execution_count": 9,
   "id": "4a019e95",
   "metadata": {},
   "outputs": [],
   "source": [
    "# Our data\n",
    "df = pd.read_csv('../data.csv', encoding=\"latin-1\")"
   ]
  },
  {
   "cell_type": "markdown",
   "id": "a5828847",
   "metadata": {},
   "source": [
    "## Preprocessing\n",
    "This is a function for creating unique counts for column values. This is similar to a GROUPBY query in SQL."
   ]
  },
  {
   "cell_type": "code",
   "execution_count": 10,
   "id": "7aadeb32",
   "metadata": {},
   "outputs": [],
   "source": [
    "# Some functions we need for preprocessing\n",
    "def unique_filter(dataframe, column_value: str): \n",
    "    result_dict = {}\n",
    "    for item in dataframe[column_value]:\n",
    "        if item in result_dict:\n",
    "            result_dict[item] += 1\n",
    "        else:\n",
    "            result_dict[item] = 1\n",
    "\n",
    "    return result_dict"
   ]
  },
  {
   "cell_type": "markdown",
   "id": "f89a61c7",
   "metadata": {},
   "source": [
    "### Victims Harmed\n",
    "An important data point for understanding the lethality of a terrorist group, is understanding how many victims are harmed and wounded as a result of the attack. "
   ]
  },
  {
   "cell_type": "code",
   "execution_count": 11,
   "id": "69a3e1eb",
   "metadata": {},
   "outputs": [],
   "source": [
    "def harmed_monthly(year, month):\n",
    "    yearly = df[df['iyear'] == year]\n",
    "    monthly = yearly[yearly['imonth'] == month]\n",
    "    killed = monthly [\"nkill\"].sum()\n",
    "    wounded = monthly[\"nwound\"].sum()\n",
    "    return killed + wounded"
   ]
  },
  {
   "cell_type": "markdown",
   "id": "25b1fd96",
   "metadata": {},
   "source": [
    "### Property value damage\n",
    "Another data point for understanding lethality, is how much property was damaged as a result of the attack."
   ]
  },
  {
   "cell_type": "code",
   "execution_count": 12,
   "id": "8563610a",
   "metadata": {},
   "outputs": [],
   "source": [
    "def prop_value_monthly(year, month):\n",
    "    yearly = df[df['iyear'] == year]\n",
    "    monthly = yearly[yearly['imonth'] == month]\n",
    "    prop_value = monthly['propvalue'].sum()\n",
    "    #print(\"Property Damage {} : {} : {} \".format(year, month, prop_value))\n",
    "    return prop_value"
   ]
  },
  {
   "cell_type": "markdown",
   "id": "00ed3f64",
   "metadata": {},
   "source": [
    "### Inputting our data"
   ]
  },
  {
   "cell_type": "code",
   "execution_count": 13,
   "id": "07967ec4",
   "metadata": {},
   "outputs": [],
   "source": [
    "X = []  \n",
    "y = []\n",
    "\n",
    "for i in range(1970, 2017):\n",
    "    for j in range(1, 13):\n",
    "        results = prop_value_monthly(i, j)\n",
    "        harmed = harmed_monthly(i, j)\n",
    "        # filtered out negative values (Don't know why that happened)\n",
    "        if results > 0:\n",
    "            y.append(results)\n",
    "\n",
    "        if harmed > 0:\n",
    "            X.append(harmed)"
   ]
  },
  {
   "cell_type": "code",
   "execution_count": 25,
   "id": "8532ece9",
   "metadata": {},
   "outputs": [],
   "source": [
    "X = X[1:100] # Take a sample of 300 (Max is 465)\n",
    "y = y[1:100]"
   ]
  },
  {
   "cell_type": "code",
   "execution_count": 28,
   "id": "5f34fd3e",
   "metadata": {},
   "outputs": [
    {
     "name": "stdout",
     "output_type": "stream",
     "text": [
      "[[4.62911917e+02 3.46695415e+06]\n",
      " [5.71000000e+02 5.72599502e+08]\n",
      " [4.01400000e+02 7.58601902e+07]]\n"
     ]
    }
   ],
   "source": [
    "data = {}\n",
    "data['harmed'] = X\n",
    "data['property_value'] = y\n",
    "\n",
    "my_data = pd.DataFrame(data, columns=['harmed', 'property_value'])\n",
    "kmeans = KMeans(n_clusters=3).fit(my_data)\n",
    "centroids = kmeans.cluster_centers_\n",
    "print(centroids)"
   ]
  },
  {
   "cell_type": "code",
   "execution_count": 27,
   "id": "5a03d19f",
   "metadata": {},
   "outputs": [
    {
     "data": {
      "image/png": "[encoded data removed]",
      "text/plain": [
       "<Figure size 432x288 with 1 Axes>"
      ]
     },
     "metadata": {
      "needs_background": "light"
     },
     "output_type": "display_data"
    }
   ],
   "source": [
    "plt.scatter(my_data['harmed'], my_data['property_value'], c=kmeans.labels_.astype(float), s=50, alpha=0.5)\n",
    "plt.show()"
   ]
  },
  {
   "cell_type": "code",
   "execution_count": null,
   "id": "13c99c8b",
   "metadata": {},
   "outputs": [],
   "source": []
  }
 ],
 "metadata": {
  "kernelspec": {
   "display_name": "Python 3 (ipykernel)",
   "language": "python",
   "name": "python3"
  },
  "language_info": {
   "codemirror_mode": {
    "name": "ipython",
    "version": 3
   },
   "file_extension": ".py",
   "mimetype": "text/x-python",
   "name": "python",
   "nbconvert_exporter": "python",
   "pygments_lexer": "ipython3",
   "version": "3.8.10"
  }
 },
 "nbformat": 4,
 "nbformat_minor": 5
}
